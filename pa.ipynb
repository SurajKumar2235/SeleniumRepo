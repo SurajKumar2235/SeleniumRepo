{
 "cells": [
  {
   "cell_type": "code",
   "execution_count": 2,
   "metadata": {},
   "outputs": [
    {
     "data": {
      "text/html": [
       "<div>\n",
       "<style scoped>\n",
       "    .dataframe tbody tr th:only-of-type {\n",
       "        vertical-align: middle;\n",
       "    }\n",
       "\n",
       "    .dataframe tbody tr th {\n",
       "        vertical-align: top;\n",
       "    }\n",
       "\n",
       "    .dataframe thead th {\n",
       "        text-align: right;\n",
       "    }\n",
       "</style>\n",
       "<table border=\"1\" class=\"dataframe\">\n",
       "  <thead>\n",
       "    <tr style=\"text-align: right;\">\n",
       "      <th></th>\n",
       "      <th>page 1</th>\n",
       "    </tr>\n",
       "  </thead>\n",
       "  <tbody>\n",
       "    <tr>\n",
       "      <th>Item Discount</th>\n",
       "      <td>[43% off, 42% off, 13% off, 47% off, 47% off, ...</td>\n",
       "    </tr>\n",
       "    <tr>\n",
       "      <th>Item MRP</th>\n",
       "      <td>[₹1,599, ₹3,999, ₹2,199, ₹2,199, ₹2,199, ₹2,69...</td>\n",
       "    </tr>\n",
       "    <tr>\n",
       "      <th>Item Price</th>\n",
       "      <td>[₹899, ₹2,299, ₹1,899, ₹1,149, ₹1,149, ₹1,599,...</td>\n",
       "    </tr>\n",
       "    <tr>\n",
       "      <th>Item Rating</th>\n",
       "      <td>[4.1, 4.2, , , , , , 4.2, , , , , , , , , , , ...</td>\n",
       "    </tr>\n",
       "    <tr>\n",
       "      <th>No. People rated</th>\n",
       "      <td>[(64,460), (2,935), , , , , , (30,015), , , , ...</td>\n",
       "    </tr>\n",
       "    <tr>\n",
       "      <th>item Name</th>\n",
       "      <td>[Ambrane 10000 mAh Power Bank (20 W, Quick Cha...</td>\n",
       "    </tr>\n",
       "  </tbody>\n",
       "</table>\n",
       "</div>"
      ],
      "text/plain": [
       "                                                             page 1\n",
       "Item Discount     [43% off, 42% off, 13% off, 47% off, 47% off, ...\n",
       "Item MRP          [₹1,599, ₹3,999, ₹2,199, ₹2,199, ₹2,199, ₹2,69...\n",
       "Item Price        [₹899, ₹2,299, ₹1,899, ₹1,149, ₹1,149, ₹1,599,...\n",
       "Item Rating       [4.1, 4.2, , , , , , 4.2, , , , , , , , , , , ...\n",
       "No. People rated  [(64,460), (2,935), , , , , , (30,015), , , , ...\n",
       "item Name         [Ambrane 10000 mAh Power Bank (20 W, Quick Cha..."
      ]
     },
     "execution_count": 2,
     "metadata": {},
     "output_type": "execute_result"
    }
   ],
   "source": [
    "import pandas as pd \n",
    "pd.read_json('flipData.json')"
   ]
  },
  {
   "cell_type": "code",
   "execution_count": 6,
   "metadata": {},
   "outputs": [
    {
     "data": {
      "text/plain": [
       "{('itNAme', 'itemm'): (12, 12)}"
      ]
     },
     "execution_count": 6,
     "metadata": {},
     "output_type": "execute_result"
    }
   ],
   "source": [
    "dictonary={}\n",
    "dictonary['itNAme','itemm']=12,12\n",
    "dictonary"
   ]
  },
  {
   "cell_type": "code",
   "execution_count": null,
   "metadata": {},
   "outputs": [],
   "source": []
  },
  {
   "cell_type": "code",
   "execution_count": null,
   "metadata": {},
   "outputs": [],
   "source": []
  }
 ],
 "metadata": {
  "kernelspec": {
   "display_name": "webScraping",
   "language": "python",
   "name": "python3"
  },
  "language_info": {
   "codemirror_mode": {
    "name": "ipython",
    "version": 3
   },
   "file_extension": ".py",
   "mimetype": "text/x-python",
   "name": "python",
   "nbconvert_exporter": "python",
   "pygments_lexer": "ipython3",
   "version": "3.12.1"
  }
 },
 "nbformat": 4,
 "nbformat_minor": 2
}
